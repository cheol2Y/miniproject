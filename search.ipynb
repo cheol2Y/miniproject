{
 "cells": [
  {
   "cell_type": "code",
   "execution_count": 1,
   "metadata": {},
   "outputs": [],
   "source": [
    "import pymysql"
   ]
  },
  {
   "cell_type": "code",
   "execution_count": 19,
   "metadata": {},
   "outputs": [],
   "source": [
    "#저는 mysql root계정에 데이터베이스, 테이블을 만들었어요\n",
    "conn = pymysql.connect(\n",
    "    host='localhost',  # 호스트명\n",
    "    user='root',  # 사용자명\n",
    "    password='root1234',  # 비밀번호\n",
    "    db='miniprojectdb',  # 데이터베이스명\n",
    "    charset='utf8'  # 문자셋\n",
    ")"
   ]
  },
  {
   "cell_type": "code",
   "execution_count": 20,
   "metadata": {},
   "outputs": [],
   "source": [
    "cursor = conn.cursor((pymysql.cursors.DictCursor)) #데이터베이스와 소통을 위한 커서 생성 \n",
    "#딕셔너리 타입으로 가져오기"
   ]
  },
  {
   "cell_type": "code",
   "execution_count": 21,
   "metadata": {},
   "outputs": [
    {
     "data": {
      "text/plain": [
       "2"
      ]
     },
     "execution_count": 21,
     "metadata": {},
     "output_type": "execute_result"
    }
   ],
   "source": [
    "sql = \"SELECT * FROM predict1;\" #여기서 todo는 테이블 이름. 실제 구현에서는 predect_오늘 날짜 가 테이블 이름이 될 것임\n",
    "cursor.execute(sql) # 실행"
   ]
  },
  {
   "cell_type": "code",
   "execution_count": 22,
   "metadata": {},
   "outputs": [],
   "source": [
    "result1 = cursor.fetchall() #커서의 실행 결과를 result에 담기"
   ]
  },
  {
   "cell_type": "code",
   "execution_count": 23,
   "metadata": {},
   "outputs": [
    {
     "data": {
      "text/plain": [
       "[{'code': '565656',\n",
       "  'name': '태현화학',\n",
       "  'day1': 1,\n",
       "  'day2': 15000,\n",
       "  'day3': 10000,\n",
       "  'day4': 123,\n",
       "  'day5': 123123,\n",
       "  'day6': 123213,\n",
       "  'day7': 7,\n",
       "  'day8': 8,\n",
       "  'day9': 9,\n",
       "  'day10': 10},\n",
       " {'code': '654321',\n",
       "  'name': '태현자동차',\n",
       "  'day1': 10000,\n",
       "  'day2': 15000,\n",
       "  'day3': 10000,\n",
       "  'day4': 123,\n",
       "  'day5': 123123,\n",
       "  'day6': 123213,\n",
       "  'day7': 7,\n",
       "  'day8': 8,\n",
       "  'day9': 9,\n",
       "  'day10': 10}]"
      ]
     },
     "execution_count": 23,
     "metadata": {},
     "output_type": "execute_result"
    }
   ],
   "source": [
    "result1"
   ]
  },
  {
   "cell_type": "code",
   "execution_count": 24,
   "metadata": {},
   "outputs": [
    {
     "data": {
      "text/plain": [
       "list"
      ]
     },
     "execution_count": 24,
     "metadata": {},
     "output_type": "execute_result"
    }
   ],
   "source": [
    "type(result1) #형태는 튜플이 아니라 리스트"
   ]
  },
  {
   "cell_type": "code",
   "execution_count": 31,
   "metadata": {},
   "outputs": [],
   "source": [
    "#가져오는 것뿐 아니라 바로 붙일 수 있도록 준비하기\n",
    "from datetime import datetime, timedelta\n",
    "import holidays"
   ]
  },
  {
   "cell_type": "code",
   "execution_count": 48,
   "metadata": {},
   "outputs": [],
   "source": [
    "kr_holidays = holidays.SouthKorea"
   ]
  },
  {
   "cell_type": "code",
   "execution_count": 58,
   "metadata": {},
   "outputs": [
    {
     "name": "stdout",
     "output_type": "stream",
     "text": [
      "[[{'name': '태현화학', 'date': '2023-12-19', 'close': 1}, {'name': '태현화학', 'date': '2023-12-20', 'close': 15000}, {'name': '태현화학', 'date': '2023-12-21', 'close': 10000}, {'name': '태현화학', 'date': '2023-12-22', 'close': 123}, {'name': '태현화학', 'date': '2023-12-26', 'close': 123123}, {'name': '태현화학', 'date': '2023-12-27', 'close': 123213}, {'name': '태현화학', 'date': '2023-12-28', 'close': 7}, {'name': '태현화학', 'date': '2023-12-29', 'close': 8}, {'name': '태현화학', 'date': '2024-01-02', 'close': 9}, {'name': '태현화학', 'date': '2024-01-03', 'close': 10}], [{'name': '태현자동차', 'date': '2023-12-19', 'close': 10000}, {'name': '태현자동차', 'date': '2023-12-20', 'close': 15000}, {'name': '태현자동차', 'date': '2023-12-21', 'close': 10000}, {'name': '태현자동차', 'date': '2023-12-22', 'close': 123}, {'name': '태현자동차', 'date': '2023-12-26', 'close': 123123}, {'name': '태현자동차', 'date': '2023-12-27', 'close': 123213}, {'name': '태현자동차', 'date': '2023-12-28', 'close': 7}, {'name': '태현자동차', 'date': '2023-12-29', 'close': 8}, {'name': '태현자동차', 'date': '2024-01-02', 'close': 9}, {'name': '태현자동차', 'date': '2024-01-03', 'close': 10}]]\n"
     ]
    }
   ],
   "source": [
    "kr_holidays = holidays.SouthKorea() #여기 괄호 안 붙였었음\n",
    "\n",
    "def adjust_for_weekend_and_holiday(current_date, kr_holidays):\n",
    "    while current_date.weekday() >= 5 or current_date in kr_holidays:\n",
    "        current_date += timedelta(days=1)\n",
    "    return current_date\n",
    "\n",
    "result_list = [] #for문 이렇게 쓰는 거였지\n",
    "\n",
    "current_company = None\n",
    "\n",
    "for item in result1:\n",
    "    company_name = item['name']\n",
    "\n",
    "        # 회사가 변경되었을 때 새로운 리스트 생성\n",
    "    if current_company != company_name:\n",
    "        current_company = company_name\n",
    "        result_list.append([])\n",
    "    \n",
    "    last_date = None #이걸 글로벌에 있다가 지역으로 들고옴.\n",
    "\n",
    "    for i in range(1, 11): \n",
    "        date_key = f\"day{i}\"\n",
    "        close_key = date_key\n",
    "\n",
    "        if last_date is None:\n",
    "            current_date = datetime.now() + timedelta(days=i)\n",
    "            current_date = adjust_for_weekend_and_holiday(current_date, kr_holidays)\n",
    "\n",
    "            date_value = current_date.strftime(\"%Y-%m-%d\")\n",
    "            close_value = item[date_key]\n",
    "            \n",
    "            entry = {'name': company_name, 'date': date_value, 'close': close_value}\n",
    "            result_list[-1].append(entry)\n",
    "\n",
    "            last_date = current_date\n",
    "\n",
    "        # 이전에 찍힌 값에 +1\n",
    "        else:\n",
    "\n",
    "        # 현재 날짜에 i일을 더한 후 주말이나 휴일이면 조정. 이전에 찍힌 값에 +1을 하고, 주말이나 휴일이면 다음 평일로 조정합니다. \n",
    "            current_date = last_date + timedelta(days=1)\n",
    "            current_date = adjust_for_weekend_and_holiday(current_date, kr_holidays)\n",
    "\n",
    "            date_value = current_date.strftime(\"%Y-%m-%d\")\n",
    "            close_value = item[date_key]\n",
    "            \n",
    "            entry = {'name': company_name, 'date': date_value, 'close': close_value}\n",
    "            result_list[-1].append(entry)\n",
    "\n",
    "            last_date = current_date\n",
    "\n",
    "print(result_list)\n",
    "\n",
    "#휴일 제대로 반영되는지 체크. day를 6까지 늘리기. 일단 반영 안되고 근데 평일만 빼면 되나? 최소 공휴일은 포함된 정보를 가져와서 적용해야될 거 같은데\n",
    "#휴일이면+1, 주말이면 다음 평일로 넘기는 로직은 26일만 3번 찍힘. 전에 찍힌 값에 +1을 해야 한다.\n",
    "#회사별로 대괄호 부여하기\n",
    "#성철형이랑 컬럼명 맞추기 이제 디테일로.\n",
    "#TypeError: argument of type 'EntityLoader' is not iterable 반복가능한 객체가 아니래. if else가 for랑 같은 선에 있었음."
   ]
  }
 ],
 "metadata": {
  "kernelspec": {
   "display_name": ".venv",
   "language": "python",
   "name": "python3"
  },
  "language_info": {
   "codemirror_mode": {
    "name": "ipython",
    "version": 3
   },
   "file_extension": ".py",
   "mimetype": "text/x-python",
   "name": "python",
   "nbconvert_exporter": "python",
   "pygments_lexer": "ipython3",
   "version": "3.11.5"
  }
 },
 "nbformat": 4,
 "nbformat_minor": 2
}
