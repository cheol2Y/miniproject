{
 "cells": [
  {
   "cell_type": "markdown",
   "metadata": {},
   "source": [
    "방구 뿡뿡띠"
   ]
  }
 ],
 "metadata": {
  "language_info": {
   "name": "python"
  }
 },
 "nbformat": 4,
 "nbformat_minor": 2
}
